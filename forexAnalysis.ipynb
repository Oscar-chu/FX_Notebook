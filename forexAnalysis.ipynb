{
  "nbformat": 4,
  "nbformat_minor": 0,
  "metadata": {
    "colab": {
      "provenance": [],
      "mount_file_id": "1VIfCHvhjzkc7hInUqOAhIiMUaZ1dLlF4",
      "authorship_tag": "ABX9TyOIlDwVUXiGZQ6Y+z9kb8Km",
      "include_colab_link": true
    },
    "kernelspec": {
      "name": "python3",
      "display_name": "Python 3"
    },
    "language_info": {
      "name": "python"
    }
  },
  "cells": [
    {
      "cell_type": "markdown",
      "metadata": {
        "id": "view-in-github",
        "colab_type": "text"
      },
      "source": [
        "<a href=\"https://colab.research.google.com/github/Oscar-chu/FX_Notebook/blob/main/forexAnalysis.ipynb\" target=\"_parent\"><img src=\"https://colab.research.google.com/assets/colab-badge.svg\" alt=\"Open In Colab\"/></a>"
      ]
    },
    {
      "cell_type": "code",
      "execution_count": null,
      "metadata": {
        "id": "8uZqZ7fAsm9d"
      },
      "outputs": [],
      "source": [
        "!pip install yfinance\n",
        "!pip install requests"
      ]
    },
    {
      "cell_type": "code",
      "source": [
        "import numpy as np\n",
        "import pandas as pd\n",
        "import seaborn as sns\n",
        "import matplotlib.pyplot as plt\n",
        "import yfinance\n",
        "import requests"
      ],
      "metadata": {
        "id": "UT8zQvXrszkm"
      },
      "execution_count": null,
      "outputs": []
    },
    {
      "cell_type": "code",
      "source": [
        "def convert_to_datetime(df:pd.DataFrame,col:str):\n",
        "  try:\n",
        "    df[col] = pd.to_datetime(df[col])\n",
        "    return df\n",
        "\n",
        "  except ValueError:\n",
        "    df[col] = pd.to_datetime(df[col], errors=\"coerce\")\n",
        "    count = df[col].isna().sum()\n",
        "    print(\"There are {} rows failed to be converted to datetime\".format(count))\n",
        "    return df\n",
        "\n",
        "def convert_to_numeric(df:pd.DataFrame,col:str):\n",
        "  try:\n",
        "    df[col] = pd.to_numeric(df[col])\n",
        "    return df\n",
        "  except ValueError:\n",
        "    df[col] = pd.to_numeric(df[col], errors=\"coerce\")\n",
        "    count  = df[col].isna().sum()\n",
        "    print(\"There are {} rows failed to be converted to float\".format(count))\n",
        "    return df\n"
      ],
      "metadata": {
        "id": "pFWC4lQ1Ie2M"
      },
      "execution_count": null,
      "outputs": []
    },
    {
      "cell_type": "code",
      "source": [
        "df_jp = pd.read_csv(\"/content/drive/MyDrive/Colab Notebooks/jgbcme_all.csv\",skiprows=[0])\n",
        "df_jp = convert_to_datetime(df_jp,\"Date\")\n",
        "df_jp = convert_to_numeric(df_jp,\"2Y\")\n",
        "df_jp.dropna(subset=[\"2Y\"],inplace=True)\n",
        "\n",
        "sns.set_theme()\n",
        "sns.lineplot(\n",
        "    data=df_jp,\n",
        "    x = \"Date\",\n",
        "    y = \"2Y\",\n",
        ")"
      ],
      "metadata": {
        "id": "jQlTWgjnICL-"
      },
      "execution_count": null,
      "outputs": []
    }
  ]
}